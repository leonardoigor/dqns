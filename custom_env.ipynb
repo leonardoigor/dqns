{
 "cells": [
  {
   "cell_type": "code",
   "execution_count": null,
   "metadata": {},
   "outputs": [],
   "source": [
    "import gym\n",
    "from gym import spaces\n",
    "import pygame\n",
    "import numpy as np\n",
    "import cv2"
   ]
  },
  {
   "cell_type": "code",
   "execution_count": null,
   "metadata": {},
   "outputs": [],
   "source": [
    "from gym.envs.registration import register\n",
    "\n",
    "# remove if exists\n",
    "try:\n",
    "    del gym.envs.registry.env_specs['gym_examples/GridWorld-v0']\n",
    "except Exception as e:\n",
    "    print(e)\n",
    "    pass\n",
    "\n",
    "\n",
    "register(\n",
    "    id='gym_examples/GridWorld-v0',\n",
    "    entry_point='gym_examples.envs:GridWorldEnv',\n",
    "    max_episode_steps=300,\n",
    ")"
   ]
  },
  {
   "cell_type": "code",
   "execution_count": null,
   "metadata": {},
   "outputs": [],
   "source": [
    "from gym_examples.envs import GridWorldEnv"
   ]
  },
  {
   "cell_type": "code",
   "execution_count": null,
   "metadata": {},
   "outputs": [],
   "source": [
    "env = gym.make('gym_examples/GridWorld-v0')\n",
    "from gym.wrappers import FlattenObservation\n",
    "# wrapped_env = FlattenObservation(env)"
   ]
  },
  {
   "cell_type": "code",
   "execution_count": null,
   "metadata": {},
   "outputs": [],
   "source": [
    "gym.version.VERSION"
   ]
  },
  {
   "cell_type": "code",
   "execution_count": null,
   "metadata": {},
   "outputs": [],
   "source": [
    "# wrapped_env.reset()"
   ]
  },
  {
   "cell_type": "code",
   "execution_count": null,
   "metadata": {},
   "outputs": [],
   "source": [
    "\n",
    "from gym_examples.envs import GridWorldEnv\n",
    "env =GridWorldEnv()\n",
    "env.render_mode='rgb_array'\n",
    "qtable=env.qTable()\n",
    "for i in range(10):\n",
    "    state =env.reset()\n",
    "    steps=0\n",
    "    done=False\n",
    "    while not done:\n",
    "        screen=env.render()\n",
    "        state, reward, done, info ,_= env.step(env.action_space.sample())\n",
    "        steps+=1\n",
    "        cv2.imshow('screen',screen)\n",
    "        # if cv2.waitKey(1) & 0xFF == ord('q'):\n",
    "        #     break\n",
    "\n",
    "    print(steps)\n",
    "    \n",
    "cv2.destroyAllWindows()"
   ]
  },
  {
   "cell_type": "code",
   "execution_count": null,
   "metadata": {},
   "outputs": [],
   "source": [
    "qtable=env.qTable()\n",
    "\n",
    "gamma=0.9\n",
    "epsilon=0.9\n",
    "decay=0.9\n",
    "discount=0.9\n",
    "\n",
    "num_episodes=1000\n",
    "for i in range(num_episodes):\n",
    "    state =env.reset()\n",
    "    steps=0\n",
    "    done=False\n",
    "    action=env.action_space.sample()\n",
    "    state= env.step(action)\n",
    "    while not done:\n",
    "        screen=env.render()\n",
    "        if np.random.random()<epsilon:\n",
    "            action=env.action_space.sample()\n",
    "        else:\n",
    "            state=state[0][\"agent\"]\n",
    "            action=np.argmax(qtable[state])\n",
    "        state, reward, done, info ,_= env.step(action)\n",
    "        state=state[\"agent\"]\n",
    "        qtable[state,[0],][action]=reward+gamma*np.max(qtable[state])\n",
    "\n",
    "    print(steps)\n",
    "    epsilon*=decay"
   ]
  },
  {
   "cell_type": "code",
   "execution_count": null,
   "metadata": {},
   "outputs": [],
   "source": []
  },
  {
   "cell_type": "code",
   "execution_count": null,
   "metadata": {},
   "outputs": [],
   "source": []
  }
 ],
 "metadata": {
  "kernelspec": {
   "display_name": "ml",
   "language": "python",
   "name": "python3"
  },
  "language_info": {
   "codemirror_mode": {
    "name": "ipython",
    "version": 3
   },
   "file_extension": ".py",
   "mimetype": "text/x-python",
   "name": "python",
   "nbconvert_exporter": "python",
   "pygments_lexer": "ipython3",
   "version": "3.8.15 (default, Nov 24 2022, 14:38:14) [MSC v.1916 64 bit (AMD64)]"
  },
  "orig_nbformat": 4,
  "vscode": {
   "interpreter": {
    "hash": "395db22605db8ed90f5231c31cdd4fb427aca99d853fd6e2ecad3c63c8900a42"
   }
  }
 },
 "nbformat": 4,
 "nbformat_minor": 2
}
