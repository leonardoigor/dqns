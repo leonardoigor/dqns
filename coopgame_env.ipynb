{
 "cells": [
  {
   "cell_type": "code",
   "execution_count": null,
   "metadata": {},
   "outputs": [],
   "source": [
    "# !pip install pygame\n",
    "# install requirements.txt\n",
    "# !conda install pytorch torchvision cudatoolkit\n",
    "\n",
    "# !pip install -r requirements.txt"
   ]
  },
  {
   "cell_type": "code",
   "execution_count": null,
   "metadata": {},
   "outputs": [],
   "source": [
    "!nvcc --version"
   ]
  },
  {
   "cell_type": "code",
   "execution_count": null,
   "metadata": {},
   "outputs": [],
   "source": [
    "import gym\n",
    "from gym import spaces\n",
    "import numpy as np\n",
    "import pygame"
   ]
  },
  {
   "cell_type": "code",
   "execution_count": null,
   "metadata": {},
   "outputs": [],
   "source": [
    "class CooperativeGameEnv(gym.Env):\n",
    "    def __init__(self, grid_size=(5, 5)):\n",
    "        super(CooperativeGameEnv, self).__init__()\n",
    "        self.grid_size = grid_size\n",
    "        self.blue_target = None\n",
    "        self.red_target = None\n",
    "        self.blue_player = None\n",
    "        self.red_player = None\n",
    "\n",
    "        self.action_space = spaces.Discrete(2)  # Up, Down, Left, Right\n",
    "                #observation_space and the distance between the player and the target\n",
    "        self.observation_space = spaces.Box(low=0, high=1, shape=(8,), dtype=np.float32)\n",
    "        self.window_size = (300, 300)\n",
    "        self.cell_size = (self.window_size[0] // self.grid_size[0], self.window_size[1] // self.grid_size[1])\n",
    "\n",
    "        pygame.init()\n",
    "        self.screen = pygame.display.set_mode(self.window_size)\n",
    "        pygame.display.set_caption(\"Cooperative Game\")\n",
    "        self.clock = pygame.time.Clock()\n",
    "    # Function to randomly reset the target position\n",
    "    def transformPos(self,x,y):\n",
    "        canvas_width, canvas_height = self.window_size\n",
    "        # target_size = self.cell_size[0]\n",
    "        # target_x = np.random.randint(0, canvas_width - target_size + 1)\n",
    "        # target_y = np.random.randint(0, canvas_height - target_size + 1)\n",
    "        # return target_x, target_y\n",
    "        return x * canvas_width, y * canvas_height\n",
    "    def reset(self):\n",
    "        self.blue_target = np.random.rand(2)* 4\n",
    "        self.red_target = np.random.rand(2)* 4\n",
    "        self.blue_player = np.random.rand(2)* 4\n",
    "        self.red_player = np.random.rand(2) * 4\n",
    "        # Generate the red target while it is too close to the blue target\n",
    "        while True:\n",
    "            self.red_target = np.random.rand(2)\n",
    "            red_target_grid = self.transformPos(self.red_target[0],self.red_target[1])\n",
    "            d=np.linalg.norm(red_target_grid - self.blue_target)\n",
    "            # multplayer the position with his grid size to get the position in the grid\n",
    "            if d > .5:\n",
    "                break\n",
    "        return self._get_observation()\n",
    "\n",
    "    def step(self, actions):\n",
    "        self._update_player_positions(actions)\n",
    "        done = self._check_collision()\n",
    "        reward = self._calculate_reward()\n",
    "\n",
    "        return self._get_observation(), reward, done, {}\n",
    "\n",
    "    def _get_observation(self):\n",
    "        # return angle between the player and the target\n",
    "        # and the distance between the player and the target\n",
    "        return np.array([self.blue_player[0], self.blue_player[1], self.red_player[0], self.red_player[1], self.blue_target[0], self.blue_target[1], self.red_target[0], self.red_target[1]])\n",
    "\n",
    "    def _update_player_positions(self, actions):\n",
    "        blue_action, red_action = actions\n",
    "\n",
    "        if blue_action == 0:  # Up\n",
    "            self.blue_player[1] = min(self.blue_player[1] + 1, self.grid_size[1] - 1)\n",
    "        elif blue_action == 1:  # Down\n",
    "            self.blue_player[1] = max(self.blue_player[1] - 1, 0)\n",
    "        elif blue_action == 2:  # Left\n",
    "            self.blue_player[0] = max(self.blue_player[0] - 1, 0)\n",
    "        elif blue_action == 3:  # Right\n",
    "            self.blue_player[0] = min(self.blue_player[0] + 1, self.grid_size[0] - 1)\n",
    "\n",
    "        if red_action == 0:  # Up\n",
    "            self.red_player[1] = min(self.red_player[1] + 1, self.grid_size[1] - 1)\n",
    "        elif red_action == 1:  # Down\n",
    "            self.red_player[1] = max(self.red_player[1] - 1, 0)\n",
    "        elif red_action == 2:  # Left\n",
    "            self.red_player[0] = max(self.red_player[0] - 1, 0)\n",
    "        elif red_action == 3:  # Right\n",
    "            self.red_player[0] = min(self.red_player[0] + 1, self.grid_size[0] - 1)\n",
    "\n",
    "    def _check_collision(self):\n",
    "        blue_distance = np.linalg.norm(self.blue_player - self.blue_target)\n",
    "        red_distance = np.linalg.norm(self.red_player - self.red_target)\n",
    "        return blue_distance == 0 and red_distance == 0\n",
    "\n",
    "    def _calculate_reward(self):\n",
    "        blue_distance = np.linalg.norm(self.blue_player - self.blue_target)\n",
    "        red_distance = np.linalg.norm(self.red_player - self.red_target)\n",
    "        mean_distance = np.sqrt((blue_distance**2 + red_distance**2) / 2)\n",
    "        return -mean_distance\n",
    "\n",
    "    def win(self):\n",
    "        # take the player position and the target position\n",
    "        self.blue_player = self.blue_target\n",
    "        self.red_player = self.red_target\n",
    "    \n",
    "    def render(self):\n",
    "        # grid = np.zeros(self.grid_size)\n",
    "        # grid[int(self.blue_player[0]), int(self.blue_player[1])] = 1\n",
    "        # grid[int(self.red_player[0]), int(self.red_player[1])] = 2\n",
    "        # grid[int(self.blue_target[0]), int(self.blue_target[1])] = 3\n",
    "        # grid[int(self.red_target[0]), int(self.red_target[1])] = 4\n",
    "        # print(grid)\n",
    "        self.screen.fill((255, 255, 255))\n",
    "\n",
    "        for x in range(self.grid_size[0]):\n",
    "            for y in range(self.grid_size[1]):\n",
    "                rect = pygame.Rect(x * self.cell_size[0], y * self.cell_size[1], self.cell_size[0], self.cell_size[1])\n",
    "                pygame.draw.rect(self.screen, (200, 200, 200), rect)\n",
    "\n",
    "        blue_player_rect = pygame.Rect(self.blue_player[0] * self.cell_size[0], self.blue_player[1] * self.cell_size[1], self.cell_size[0], self.cell_size[1])\n",
    "        pygame.draw.rect(self.screen, (0, 0, 255), blue_player_rect)\n",
    "\n",
    "        red_player_rect = pygame.Rect(self.red_player[0] * self.cell_size[0], self.red_player[1] * self.cell_size[1], self.cell_size[0], self.cell_size[1])\n",
    "        pygame.draw.rect(self.screen, (255, 0, 0), red_player_rect)\n",
    "\n",
    "        blue_target_rect = pygame.Rect(self.blue_target[0] * self.cell_size[0], self.blue_target[1] * self.cell_size[1], self.cell_size[0], self.cell_size[1])\n",
    "        pygame.draw.rect(self.screen, (0, 0, 255), blue_target_rect)\n",
    "\n",
    "        red_target_rect = pygame.Rect(self.red_target[0] * self.cell_size[0], self.red_target[1] * self.cell_size[1], self.cell_size[0], self.cell_size[1])\n",
    "        pygame.draw.rect(self.screen, (255, 0, 0), red_target_rect)\n",
    "\n",
    "        pygame.display.flip()\n",
    "        self.clock.tick(30)\n",
    "\n"
   ]
  },
  {
   "cell_type": "code",
   "execution_count": null,
   "metadata": {},
   "outputs": [],
   "source": [
    "# !pip install matplotlib\n",
    "# !pip install opencv-python"
   ]
  },
  {
   "cell_type": "code",
   "execution_count": null,
   "metadata": {},
   "outputs": [],
   "source": [
    "import matplotlib.pyplot as plt\n",
    "from matplotlib.backends.backend_agg import FigureCanvasAgg as FigureCanvas\n",
    "\n",
    "import cv2"
   ]
  },
  {
   "cell_type": "code",
   "execution_count": null,
   "metadata": {},
   "outputs": [],
   "source": [
    "env = CooperativeGameEnv()\n"
   ]
  },
  {
   "cell_type": "code",
   "execution_count": 29,
   "metadata": {},
   "outputs": [
    {
     "data": {
      "text/plain": [
       "<Figure size 640x480 with 0 Axes>"
      ]
     },
     "metadata": {},
     "output_type": "display_data"
    }
   ],
   "source": [
    "# # Usage example\n",
    "env = CooperativeGameEnv()\n",
    "obs = env.reset()\n",
    "done = False\n",
    "rewards = []\n",
    "fig=plt.figure()\n",
    "steps=0\n",
    "while not done:\n",
    "    env.render()\n",
    "    blue_action = np.random.randint(0, 4)\n",
    "    red_action = np.random.randint(0, 4)\n",
    "    obs, reward, done, _ = env.step([blue_action, red_action])\n",
    "    rewards.append(reward)\n",
    "    rr=rewards[-100:]\n",
    "    plt.plot( rr)\n",
    "    canvas= FigureCanvas(fig)\n",
    "    canvas.draw()\n",
    "    image=  np.fromstring(canvas.tostring_rgb(), dtype='uint8')\n",
    "    image=image.reshape(fig.canvas.get_width_height()[::-1] + (3,))\n",
    "    cv2.imshow('image',image)\n",
    "    cv2.waitKey(1)\n",
    "    plt.clf()\n",
    "    if steps>120:\n",
    "        env.win()\n",
    "    steps+=1\n",
    "env.render()\n",
    "\n"
   ]
  },
  {
   "cell_type": "code",
   "execution_count": 30,
   "metadata": {},
   "outputs": [],
   "source": [
    "import random\n",
    "import torch\n",
    "import torch.nn as nn\n",
    "import torch.optim as optim"
   ]
  },
  {
   "cell_type": "code",
   "execution_count": 31,
   "metadata": {},
   "outputs": [
    {
     "data": {
      "text/plain": [
       "True"
      ]
     },
     "execution_count": 31,
     "metadata": {},
     "output_type": "execute_result"
    }
   ],
   "source": [
    "torch.cuda.is_available()"
   ]
  },
  {
   "cell_type": "code",
   "execution_count": 32,
   "metadata": {},
   "outputs": [
    {
     "data": {
      "text/plain": [
       "0"
      ]
     },
     "execution_count": 32,
     "metadata": {},
     "output_type": "execute_result"
    }
   ],
   "source": [
    "env.action_space.sample()"
   ]
  },
  {
   "cell_type": "code",
   "execution_count": 33,
   "metadata": {},
   "outputs": [],
   "source": [
    "# Define the Deep Q-Network (DQN) model\n",
    "class DQN(nn.Module):\n",
    "    def __init__(self, state_size, action_size):\n",
    "        super(DQN, self).__init__()\n",
    "        self.fc1 = nn.Linear(state_size, 64)\n",
    "        self.fc2 = nn.Linear(64, 64)\n",
    "        self.fc3 = nn.Linear(64, action_size)\n",
    "\n",
    "    def forward(self, x):\n",
    "        x = torch.relu(self.fc1(x))\n",
    "        x = torch.relu(self.fc2(x))\n",
    "        x = self.fc3(x)\n",
    "        return x\n",
    "\n",
    "# Define the replay memory buffer\n",
    "class ReplayMemory:\n",
    "    def __init__(self, capacity):\n",
    "        self.capacity = capacity\n",
    "        self.memory = []\n",
    "\n",
    "    def push(self, transition):\n",
    "        if len(self.memory) >= self.capacity:\n",
    "            self.memory.pop(0)\n",
    "        self.memory.append(transition)\n",
    "\n",
    "    def sample(self, batch_size):\n",
    "        return random.sample(self.memory, batch_size)\n",
    "\n",
    "# Define the Deep Q-Network Agent\n",
    "class DQNAgent:\n",
    "    def __init__(self, state_size, action_size, lr, gamma, epsilon, epsilon_decay):\n",
    "        self.state_size = state_size\n",
    "        self.action_size = action_size\n",
    "        self.lr = lr\n",
    "        self.gamma = gamma\n",
    "        self.epsilon = epsilon\n",
    "        self.epsilon_decay = epsilon_decay\n",
    "\n",
    "        self.device = torch.device( \"cpu\")\n",
    "        # self.device = torch.device(\"cuda\" if torch.cuda.is_available() else \"cpu\")\n",
    "        self.policy_net = DQN(state_size, action_size).to(self.device)\n",
    "        self.target_net = DQN(state_size, action_size).to(self.device)\n",
    "        self.target_net.load_state_dict(self.policy_net.state_dict())\n",
    "        self.target_net.eval()\n",
    "\n",
    "        self.optimizer = optim.Adam(self.policy_net.parameters(), lr=lr)\n",
    "        self.criterion = nn.MSELoss()\n",
    "\n",
    "        self.memory = ReplayMemory(capacity=10000)\n",
    "\n",
    "    def select_action(self, state):\n",
    "        if np.random.rand() < self.epsilon:\n",
    "            blue_action = np.random.randint(0, 4)\n",
    "            red_action = np.random.randint(0, 4)\n",
    "            actions=[blue_action, red_action]\n",
    "            return actions\n",
    "        with torch.no_grad():\n",
    "            state = torch.tensor(state, dtype=torch.float32).unsqueeze(0).to(self.device)\n",
    "            q_values = self.policy_net(state)\n",
    "            return q_values.argmax().item()\n",
    "\n",
    "    def train(self, batch_size):\n",
    "        if len(self.memory.memory) < batch_size:\n",
    "            return\n",
    "\n",
    "        transitions = self.memory.sample(batch_size)\n",
    "        batch = list(zip(*transitions))\n",
    "        state_batch = torch.tensor(batch[0], dtype=torch.float32).to(self.device)\n",
    "        action_batch = torch.tensor(batch[1], dtype=torch.int64).to(self.device)\n",
    "        reward_batch = torch.tensor(batch[2], dtype=torch.float32).unsqueeze(1).to(self.device)\n",
    "        next_state_batch = torch.tensor(batch[3], dtype=torch.float32).to(self.device)\n",
    "        done_batch = torch.tensor(batch[4], dtype=torch.float32).unsqueeze(1).to(self.device)\n",
    "\n",
    "        current_q_values = self.policy_net(state_batch).gather(1, action_batch)\n",
    "        next_q_values = self.target_net(next_state_batch).max(1)[0].unsqueeze(1)\n",
    "        target_q_values = reward_batch + (1 - done_batch) * self.gamma * next_q_values\n",
    "\n",
    "        loss = self.criterion(current_q_values, target_q_values)\n",
    "\n",
    "        self.optimizer.zero_grad()\n",
    "        loss.backward()\n",
    "        self.optimizer.step()\n",
    "\n",
    "        self.epsilon *= self.epsilon_decay\n",
    "\n",
    "    def update_target_network(self):        \n",
    "        self.target_net.load_state_dict(self.policy_net.state_dict())\n",
    "\n",
    "# Define the main training loop\n",
    "def train_dqn(env, agent, num_episodes, batch_size):\n",
    "    for episode in range(num_episodes):\n",
    "        state = env.reset()\n",
    "        done = False\n",
    "        total_reward = 0\n",
    "\n",
    "        while not done:\n",
    "            action = agent.select_action(state)\n",
    "            next_state, reward, done, _ = env.step(action)\n",
    "            agent.memory.push((state, action, reward, next_state, done))\n",
    "            state = next_state\n",
    "            total_reward += reward\n",
    "\n",
    "            agent.train(batch_size)\n",
    "            agent.update_target_network()\n",
    "\n",
    "        print(f\"Episode: {episode+1}, Total Reward: {total_reward}\")\n",
    "\n",
    "\n"
   ]
  },
  {
   "cell_type": "code",
   "execution_count": 34,
   "metadata": {},
   "outputs": [],
   "source": [
    "obs = env.reset()\n",
    "state_size = env.observation_space.shape[0]\n",
    "action_size = env.action_space.n\n",
    "lr = 0.001\n",
    "gamma = 0.99\n",
    "epsilon = 1.0\n",
    "epsilon_decay = 0.999\n",
    "batch_size = 64\n",
    "num_episodes = 1000\n"
   ]
  },
  {
   "cell_type": "code",
   "execution_count": 35,
   "metadata": {},
   "outputs": [],
   "source": [
    "agent = DQNAgent(state_size, action_size, lr, gamma, epsilon, epsilon_decay)"
   ]
  },
  {
   "cell_type": "code",
   "execution_count": 36,
   "metadata": {},
   "outputs": [
    {
     "data": {
      "text/plain": [
       "device(type='cpu')"
      ]
     },
     "execution_count": 36,
     "metadata": {},
     "output_type": "execute_result"
    }
   ],
   "source": [
    "agent.device"
   ]
  },
  {
   "cell_type": "code",
   "execution_count": 37,
   "metadata": {},
   "outputs": [
    {
     "ename": "RuntimeError",
     "evalue": "index 2 is out of bounds for dimension 1 with size 2",
     "output_type": "error",
     "traceback": [
      "\u001b[1;31m---------------------------------------------------------------------------\u001b[0m",
      "\u001b[1;31mRuntimeError\u001b[0m                              Traceback (most recent call last)",
      "Cell \u001b[1;32mIn[37], line 13\u001b[0m\n\u001b[0;32m     10\u001b[0m     state \u001b[39m=\u001b[39m next_state\n\u001b[0;32m     11\u001b[0m     total_reward \u001b[39m+\u001b[39m\u001b[39m=\u001b[39m reward\n\u001b[1;32m---> 13\u001b[0m     agent\u001b[39m.\u001b[39;49mtrain(batch_size)\n\u001b[0;32m     14\u001b[0m     agent\u001b[39m.\u001b[39mupdate_target_network()\n\u001b[0;32m     16\u001b[0m \u001b[39mprint\u001b[39m(\u001b[39mf\u001b[39m\u001b[39m\"\u001b[39m\u001b[39mEpisode: \u001b[39m\u001b[39m{\u001b[39;00mepisode\u001b[39m+\u001b[39m\u001b[39m1\u001b[39m\u001b[39m}\u001b[39;00m\u001b[39m, Total Reward: \u001b[39m\u001b[39m{\u001b[39;00mtotal_reward\u001b[39m}\u001b[39;00m\u001b[39m\"\u001b[39m)\n",
      "Cell \u001b[1;32mIn[33], line 74\u001b[0m, in \u001b[0;36mDQNAgent.train\u001b[1;34m(self, batch_size)\u001b[0m\n\u001b[0;32m     71\u001b[0m next_state_batch \u001b[39m=\u001b[39m torch\u001b[39m.\u001b[39mtensor(batch[\u001b[39m3\u001b[39m], dtype\u001b[39m=\u001b[39mtorch\u001b[39m.\u001b[39mfloat32)\u001b[39m.\u001b[39mto(\u001b[39mself\u001b[39m\u001b[39m.\u001b[39mdevice)\n\u001b[0;32m     72\u001b[0m done_batch \u001b[39m=\u001b[39m torch\u001b[39m.\u001b[39mtensor(batch[\u001b[39m4\u001b[39m], dtype\u001b[39m=\u001b[39mtorch\u001b[39m.\u001b[39mfloat32)\u001b[39m.\u001b[39munsqueeze(\u001b[39m1\u001b[39m)\u001b[39m.\u001b[39mto(\u001b[39mself\u001b[39m\u001b[39m.\u001b[39mdevice)\n\u001b[1;32m---> 74\u001b[0m current_q_values \u001b[39m=\u001b[39m \u001b[39mself\u001b[39;49m\u001b[39m.\u001b[39;49mpolicy_net(state_batch)\u001b[39m.\u001b[39;49mgather(\u001b[39m1\u001b[39;49m, action_batch)\n\u001b[0;32m     75\u001b[0m next_q_values \u001b[39m=\u001b[39m \u001b[39mself\u001b[39m\u001b[39m.\u001b[39mtarget_net(next_state_batch)\u001b[39m.\u001b[39mmax(\u001b[39m1\u001b[39m)[\u001b[39m0\u001b[39m]\u001b[39m.\u001b[39munsqueeze(\u001b[39m1\u001b[39m)\n\u001b[0;32m     76\u001b[0m target_q_values \u001b[39m=\u001b[39m reward_batch \u001b[39m+\u001b[39m (\u001b[39m1\u001b[39m \u001b[39m-\u001b[39m done_batch) \u001b[39m*\u001b[39m \u001b[39mself\u001b[39m\u001b[39m.\u001b[39mgamma \u001b[39m*\u001b[39m next_q_values\n",
      "\u001b[1;31mRuntimeError\u001b[0m: index 2 is out of bounds for dimension 1 with size 2"
     ]
    }
   ],
   "source": [
    "for episode in range(num_episodes):\n",
    "    state = env.reset()\n",
    "    done = False\n",
    "    total_reward = 0\n",
    "\n",
    "    while not done:\n",
    "        action = agent.select_action(state)\n",
    "        next_state, reward, done, _ = env.step(action)\n",
    "        agent.memory.push((state, action, reward, next_state, done))\n",
    "        state = next_state\n",
    "        total_reward += reward\n",
    "\n",
    "        agent.train(batch_size)\n",
    "        agent.update_target_network()\n",
    "\n",
    "    print(f\"Episode: {episode+1}, Total Reward: {total_reward}\")"
   ]
  },
  {
   "cell_type": "code",
   "execution_count": null,
   "metadata": {},
   "outputs": [],
   "source": [
    "# !pip freeze > requirements.txt\n"
   ]
  }
 ],
 "metadata": {
  "kernelspec": {
   "display_name": "Python 3",
   "language": "python",
   "name": "python3"
  },
  "language_info": {
   "codemirror_mode": {
    "name": "ipython",
    "version": 3
   },
   "file_extension": ".py",
   "mimetype": "text/x-python",
   "name": "python",
   "nbconvert_exporter": "python",
   "pygments_lexer": "ipython3",
   "version": "3.10.11"
  },
  "orig_nbformat": 4
 },
 "nbformat": 4,
 "nbformat_minor": 2
}
